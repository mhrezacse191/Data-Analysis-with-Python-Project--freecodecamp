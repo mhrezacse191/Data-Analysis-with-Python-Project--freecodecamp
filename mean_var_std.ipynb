{
  "nbformat": 4,
  "nbformat_minor": 0,
  "metadata": {
    "colab": {
      "provenance": []
    },
    "kernelspec": {
      "name": "python3",
      "display_name": "Python 3"
    },
    "language_info": {
      "name": "python"
    }
  },
  "cells": [
    {
      "cell_type": "code",
      "execution_count": null,
      "metadata": {
        "id": "zXXTlkiNOaCZ"
      },
      "outputs": [],
      "source": [
        "import numpy as np\n",
        "\n",
        "def calculate(list_in):\n",
        "    if len(list_in) != 9:\n",
        "        raise ValueError(\"List must contain nine numbers.\")\n",
        "\n",
        "    arr = np.array(list_in).reshape(3, 3)\n",
        "\n",
        "    calculations = {\n",
        "        'mean': [\n",
        "            arr.mean(axis=0).tolist(),\n",
        "            arr.mean(axis=1).tolist(),\n",
        "            arr.mean().item()\n",
        "        ],\n",
        "        'variance': [\n",
        "            arr.var(axis=0).tolist(),\n",
        "            arr.var(axis=1).tolist(),\n",
        "            arr.var().item()\n",
        "        ],\n",
        "        'standard deviation': [\n",
        "            arr.std(axis=0).tolist(),\n",
        "            arr.std(axis=1).tolist(),\n",
        "            arr.std().item()\n",
        "        ],\n",
        "        'max': [\n",
        "            arr.max(axis=0).tolist(),\n",
        "            arr.max(axis=1).tolist(),\n",
        "            arr.max().item()\n",
        "        ],\n",
        "        'min': [\n",
        "            arr.min(axis=0).tolist(),\n",
        "            arr.min(axis=1).tolist(),\n",
        "            arr.min().item()\n",
        "        ],\n",
        "        'sum': [\n",
        "            arr.sum(axis=0).tolist(),\n",
        "            arr.sum(axis=1).tolist(),\n",
        "            arr.sum().item()\n",
        "        ]\n",
        "    }\n",
        "    return calculations\n"
      ]
    },
    {
      "cell_type": "code",
      "source": [
        "print(calculate([1,2,3,4,5,6,7,8,9]))"
      ],
      "metadata": {
        "colab": {
          "base_uri": "https://localhost:8080/"
        },
        "id": "B55TphPKwZTb",
        "outputId": "ee2e46f8-d1f6-4337-9f9d-d4bc8c486944"
      },
      "execution_count": null,
      "outputs": [
        {
          "output_type": "stream",
          "name": "stdout",
          "text": [
            "{'mean': [[4.0, 5.0, 6.0], [2.0, 5.0, 8.0], 5.0], 'variance': [[6.0, 6.0, 6.0], [0.6666666666666666, 0.6666666666666666, 0.6666666666666666], 6.666666666666667], 'standard deviation': [[2.449489742783178, 2.449489742783178, 2.449489742783178], [0.816496580927726, 0.816496580927726, 0.816496580927726], 2.581988897471611], 'max': [[7, 8, 9], [3, 6, 9], 9], 'min': [[1, 2, 3], [1, 4, 7], 1], 'sum': [[12, 15, 18], [6, 15, 24], 45]}\n"
          ]
        }
      ]
    }
  ]
}