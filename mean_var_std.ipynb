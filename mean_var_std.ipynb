{
  "nbformat": 4,
  "nbformat_minor": 0,
  "metadata": {
    "colab": {
      "provenance": []
    },
    "kernelspec": {
      "name": "python3",
      "display_name": "Python 3"
    },
    "language_info": {
      "name": "python"
    }
  },
  "cells": [
    {
      "cell_type": "code",
      "execution_count": 1,
      "metadata": {
        "id": "zXXTlkiNOaCZ"
      },
      "outputs": [],
      "source": [
        "import numpy as np\n",
        "\n",
        "def calculate(list_in):\n",
        "    if len(list_in) != 9:\n",
        "        raise ValueError(\"List must contain nine numbers.\")\n",
        "\n",
        "    arr = np.array(list_in).reshape(3, 3)\n",
        "\n",
        "    calculations = {\n",
        "        'mean': [\n",
        "            arr.mean(axis=0).tolist(),\n",
        "            arr.mean(axis=1).tolist(),\n",
        "            arr.mean().tolist()\n",
        "        ],\n",
        "        'variance': [\n",
        "            arr.var(axis=0).tolist(),\n",
        "            arr.var(axis=1).tolist(),\n",
        "            arr.var().tolist()\n",
        "        ],\n",
        "        'standard deviation': [\n",
        "            arr.std(axis=0).tolist(),\n",
        "            arr.std(axis=1).tolist(),\n",
        "            arr.std().tolist()\n",
        "        ],\n",
        "        'max': [\n",
        "            arr.max(axis=0).tolist(),\n",
        "            arr.max(axis=1).tolist(),\n",
        "            arr.max().tolist()\n",
        "        ],\n",
        "        'min': [\n",
        "            arr.min(axis=0).tolist(),\n",
        "            arr.min(axis=1).tolist(),\n",
        "            arr.min().tolist()\n",
        "        ],\n",
        "        'sum': [\n",
        "            arr.sum(axis=0).tolist(),\n",
        "            arr.sum(axis=1).tolist(),\n",
        "            arr.sum().tolist()\n",
        "        ]\n",
        "    }\n",
        "    return calculations\n",
        "\n",
        "# Optional: print result for testing\n",
        "# print(calculate([1,2,3,4,5,6,7,8,9]))\n"
      ]
    },
    {
      "cell_type": "code",
      "source": [
        "print(calculate([1,2,3,4,5,6,7,8,9]))"
      ],
      "metadata": {
        "colab": {
          "base_uri": "https://localhost:8080/"
        },
        "id": "DCQcR3GuGeK0",
        "outputId": "80f17e0a-c4bd-4dda-f707-9af1718dbbe0"
      },
      "execution_count": 2,
      "outputs": [
        {
          "output_type": "stream",
          "name": "stdout",
          "text": [
            "{'mean': [[4.0, 5.0, 6.0], [2.0, 5.0, 8.0], 5.0], 'variance': [[6.0, 6.0, 6.0], [0.6666666666666666, 0.6666666666666666, 0.6666666666666666], 6.666666666666667], 'standard deviation': [[2.449489742783178, 2.449489742783178, 2.449489742783178], [0.816496580927726, 0.816496580927726, 0.816496580927726], 2.581988897471611], 'max': [[7, 8, 9], [3, 6, 9], 9], 'min': [[1, 2, 3], [1, 4, 7], 1], 'sum': [[12, 15, 18], [6, 15, 24], 45]}\n"
          ]
        }
      ]
    }
  ]
}